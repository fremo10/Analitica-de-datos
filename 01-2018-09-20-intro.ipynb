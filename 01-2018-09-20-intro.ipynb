{
 "cells": [
  {
   "cell_type": "markdown",
   "metadata": {},
   "source": [
    "Introducción\n",
    "===\n",
    "\n",
    "**Juan David Velásquez Henao**  \n",
    "jdvelasq@unal.edu.co   \n",
    "Universidad Nacional de Colombia, Sede Medellín  \n",
    "Facultad de Minas  \n",
    "Medellín, Colombia\n",
    "\n",
    "---\n",
    "\n",
    "Haga click [aquí](https://github.com/jdvelasq/Python-for-ETL-processes/tree/master/) para acceder al repositorio online.\n",
    "\n",
    "Haga click [aquí](http://nbviewer.jupyter.org/github/jdvelasq/Python-for-ETL-processes/tree/master/) para explorar el repositorio usando `nbviewer`. "
   ]
  },
  {
   "cell_type": "markdown",
   "metadata": {
    "slideshow": {
     "slide_type": "slide"
    }
   },
   "source": [
    "# Distribuciones\n",
    "\n",
    "\n",
    "* Parte de los sistemas operativos macOS y Linux.\n",
    "\n",
    "\n",
    "* Python Software Foundation (https://www.python.org)\n",
    "\n",
    "\n",
    "* Enthought Canopy (https://www.enthought.com)\n",
    "\n",
    "\n",
    "* Anaconda (https://www.continuum.io)\n",
    "\n"
   ]
  },
  {
   "cell_type": "markdown",
   "metadata": {
    "slideshow": {
     "slide_type": "slide"
    }
   },
   "source": [
    "# Ejecución de Python\n",
    "\n",
    "\n",
    "* Ejecución de archivos de comandos.\n",
    "\n",
    "\n",
    "* Desde Atom usando platformio\n",
    "\n",
    "\n",
    "* Ejecución interactiva de Python\n",
    "\n",
    "\n",
    "* IPython y magic commands\n",
    "\n",
    "\n",
    "* Jupyter\n"
   ]
  },
  {
   "cell_type": "markdown",
   "metadata": {
    "slideshow": {
     "slide_type": "slide"
    }
   },
   "source": [
    "# IPython y Magic Cells (o magic commands)\n",
    "\n",
    "Consulte la guía del usuario de los magic commands [aquí](https://ipython.org/ipython-doc/3/interactive/magics.html#magic-edit)\n"
   ]
  },
  {
   "cell_type": "code",
   "execution_count": 1,
   "metadata": {
    "slideshow": {
     "slide_type": "fragment"
    }
   },
   "outputs": [
    {
     "name": "stdout",
     "output_type": "stream",
     "text": [
      "01-intro.ipynb              08-taller-1.ipynb\n",
      "\u001b[35m02-uso-interactivo.ipynb\u001b[m\u001b[m*   LICENSE\n",
      "\u001b[35m03-programacion.ipynb\u001b[m\u001b[m*      README.md\n",
      "\u001b[35m04-estructuras-datos.ipynb\u001b[m\u001b[m* \u001b[36mejercicios\u001b[m\u001b[m/\n",
      "\u001b[35m05-extraccion.ipynb\u001b[m\u001b[m*        \u001b[36mfiles-python-ETL\u001b[m\u001b[m/\n",
      "\u001b[36m06-caso-practico\u001b[m\u001b[m/           \u001b[36mimages\u001b[m\u001b[m/\n",
      "06-caso-practico.ipynb      \u001b[36mimages-python-ETL\u001b[m\u001b[m/\n",
      "\u001b[35m07-transformacion.ipynb\u001b[m\u001b[m*    \u001b[36mprecios-energia\u001b[m\u001b[m/\n"
     ]
    }
   ],
   "source": [
    "%ls"
   ]
  },
  {
   "cell_type": "code",
   "execution_count": 2,
   "metadata": {
    "slideshow": {
     "slide_type": "fragment"
    }
   },
   "outputs": [
    {
     "name": "stdout",
     "output_type": "stream",
     "text": [
      "01-intro.ipynb\n",
      "02-uso-interactivo.ipynb\n",
      "03-programacion.ipynb\n",
      "04-estructuras-datos.ipynb\n",
      "05-extraccion.ipynb\n",
      "06-caso-practico\n",
      "06-caso-practico.ipynb\n",
      "07-transformacion.ipynb\n",
      "08-taller-1.ipynb\n",
      "LICENSE\n",
      "README.md\n",
      "ejercicios\n",
      "files-python-ETL\n",
      "images\n",
      "images-python-ETL\n",
      "precios-energia\n"
     ]
    }
   ],
   "source": [
    "%%sh\n",
    "ls"
   ]
  },
  {
   "cell_type": "code",
   "execution_count": 3,
   "metadata": {
    "slideshow": {
     "slide_type": "slide"
    }
   },
   "outputs": [
    {
     "name": "stdout",
     "output_type": "stream",
     "text": [
      "Writing hola.py\n"
     ]
    }
   ],
   "source": [
    "%%writefile hola.py\n",
    "print(\"hola mundo feliz desde Python\")"
   ]
  },
  {
   "cell_type": "code",
   "execution_count": 4,
   "metadata": {},
   "outputs": [
    {
     "name": "stdout",
     "output_type": "stream",
     "text": [
      "hola mundo feliz desde Python\n"
     ]
    }
   ],
   "source": [
    "%%sh \n",
    "python hola.py"
   ]
  },
  {
   "cell_type": "code",
   "execution_count": 5,
   "metadata": {},
   "outputs": [],
   "source": [
    "%%sh\n",
    "rm hola.py"
   ]
  },
  {
   "cell_type": "code",
   "execution_count": 6,
   "metadata": {},
   "outputs": [
    {
     "name": "stdout",
     "output_type": "stream",
     "text": [
      "IPython will make a temporary file named: /var/folders/4r/2h50d5n50g7b1rk6jp1mc4jr0000gn/T/ipython_edit_xbw8lynf/ipython_edit_kpofmixl.py\n"
     ]
    }
   ],
   "source": [
    "%edit"
   ]
  },
  {
   "cell_type": "markdown",
   "metadata": {},
   "source": [
    "---"
   ]
  },
  {
   "cell_type": "markdown",
   "metadata": {},
   "source": [
    "Introducción\n",
    "===\n",
    "\n",
    "**Juan David Velásquez Henao**  \n",
    "jdvelasq@unal.edu.co   \n",
    "Universidad Nacional de Colombia, Sede Medellín  \n",
    "Facultad de Minas  \n",
    "Medellín, Colombia\n",
    "\n",
    "---\n",
    "\n",
    "Haga click [aquí](https://github.com/jdvelasq/Python-for-ETL-processes/tree/master/) para acceder al repositorio online.\n",
    "\n",
    "Haga click [aquí](http://nbviewer.jupyter.org/github/jdvelasq/Python-for-ETL-processes/tree/master/) para explorar el repositorio usando `nbviewer`. "
   ]
  }
 ],
 "metadata": {
  "anaconda-cloud": {},
  "kernel_info": {
   "name": "python3"
  },
  "kernelspec": {
   "display_name": "Python 3",
   "language": "python",
   "name": "python3"
  },
  "language_info": {
   "codemirror_mode": {
    "name": "ipython",
    "version": 3
   },
   "file_extension": ".py",
   "mimetype": "text/x-python",
   "name": "python",
   "nbconvert_exporter": "python",
   "pygments_lexer": "ipython3",
   "version": "3.6.5"
  },
  "nteract": {
   "version": "0.7.1"
  },
  "toc-autonumbering": false
 },
 "nbformat": 4,
 "nbformat_minor": 2
}
